{
 "cells": [
  {
   "cell_type": "code",
   "execution_count": 72,
   "metadata": {},
   "outputs": [],
   "source": [
    "import sqlite3\n",
    "import pandas as pd\n",
    "\n",
    "# Connect to the database\n",
    "conn = sqlite3.connect('beachcondos.db')\n",
    "\n",
    "# Create a cursor object\n",
    "cur = conn.cursor()\n",
    "\n",
    "condos = pd.read_csv('Condo_Unit.csv')\n",
    "client = pd.read_csv('Client.csv')\n",
    "owner = pd.read_csv('Owner.csv')\n",
    "\n",
    "\n",
    "# Drop the database tables the second time this runs\n",
    "cur.execute('DROP TABLE IF EXISTS Condo_Unit')\n",
    "cur.execute('DROP TABLE IF EXISTS Owner')\n",
    "cur.execute('DROP TABLE IF EXISTS Client')\n",
    "conn.commit()  # Commit the changes to the database\n",
    "\n",
    "# Append the DataFrames into the tables\n",
    "condos.to_sql('Condo_Unit', con=conn, if_exists='append', index=False)\n",
    "owner.to_sql('Owner', con=conn, if_exists='append', index=False)\n",
    "client.to_sql('Client', con=conn, if_exists='append', index=False)\n"
   ]
  },
  {
   "cell_type": "code",
   "execution_count": 65,
   "metadata": {},
   "outputs": [
    {
     "name": "stdout",
     "output_type": "stream",
     "text": [
      "(1)\n"
     ]
    },
    {
     "data": {
      "text/html": [
       "<div>\n",
       "<style scoped>\n",
       "    .dataframe tbody tr th:only-of-type {\n",
       "        vertical-align: middle;\n",
       "    }\n",
       "\n",
       "    .dataframe tbody tr th {\n",
       "        vertical-align: top;\n",
       "    }\n",
       "\n",
       "    .dataframe thead th {\n",
       "        text-align: right;\n",
       "    }\n",
       "</style>\n",
       "<table border=\"1\" class=\"dataframe\">\n",
       "  <thead>\n",
       "    <tr style=\"text-align: right;\">\n",
       "      <th></th>\n",
       "      <th>First Name</th>\n",
       "      <th>Last Name</th>\n",
       "    </tr>\n",
       "  </thead>\n",
       "  <tbody>\n",
       "    <tr>\n",
       "      <th>0</th>\n",
       "      <td>Joe</td>\n",
       "      <td>Heulbert</td>\n",
       "    </tr>\n",
       "    <tr>\n",
       "      <th>1</th>\n",
       "      <td>Mary Jo</td>\n",
       "      <td>Gonzalez</td>\n",
       "    </tr>\n",
       "  </tbody>\n",
       "</table>\n",
       "</div>"
      ],
      "text/plain": [
       "  First Name Last Name\n",
       "0        Joe  Heulbert\n",
       "1    Mary Jo  Gonzalez"
      ]
     },
     "execution_count": 65,
     "metadata": {},
     "output_type": "execute_result"
    }
   ],
   "source": [
    "print(\"(1)\")\n",
    "cur.execute('SELECT First_Name, Last_Name FROM Owner WHERE First_Name LIKE \"%jo%\"')\n",
    "df1 = pd.DataFrame(cur.fetchall(), columns=['First Name', 'Last Name'])\n",
    "df1"
   ]
  },
  {
   "cell_type": "raw",
   "metadata": {},
   "source": []
  },
  {
   "cell_type": "code",
   "execution_count": 64,
   "metadata": {},
   "outputs": [
    {
     "name": "stdout",
     "output_type": "stream",
     "text": [
      "(2)\n"
     ]
    },
    {
     "data": {
      "text/html": [
       "<div>\n",
       "<style scoped>\n",
       "    .dataframe tbody tr th:only-of-type {\n",
       "        vertical-align: middle;\n",
       "    }\n",
       "\n",
       "    .dataframe tbody tr th {\n",
       "        vertical-align: top;\n",
       "    }\n",
       "\n",
       "    .dataframe thead th {\n",
       "        text-align: right;\n",
       "    }\n",
       "</style>\n",
       "<table border=\"1\" class=\"dataframe\">\n",
       "  <thead>\n",
       "    <tr style=\"text-align: right;\">\n",
       "      <th></th>\n",
       "      <th>Client_Name</th>\n",
       "      <th>State</th>\n",
       "    </tr>\n",
       "  </thead>\n",
       "  <tbody>\n",
       "    <tr>\n",
       "      <th>0</th>\n",
       "      <td>John Alton</td>\n",
       "      <td>FL</td>\n",
       "    </tr>\n",
       "    <tr>\n",
       "      <th>1</th>\n",
       "      <td>Lucy Ferb</td>\n",
       "      <td>NY</td>\n",
       "    </tr>\n",
       "    <tr>\n",
       "      <th>2</th>\n",
       "      <td>Diana Perez</td>\n",
       "      <td>NY</td>\n",
       "    </tr>\n",
       "  </tbody>\n",
       "</table>\n",
       "</div>"
      ],
      "text/plain": [
       "   Client_Name State\n",
       "0   John Alton    FL\n",
       "1    Lucy Ferb    NY\n",
       "2  Diana Perez    NY"
      ]
     },
     "execution_count": 64,
     "metadata": {},
     "output_type": "execute_result"
    }
   ],
   "source": [
    "print(\"(2)\")\n",
    "cur.execute('SELECT Client_Name, State '\n",
    "           'FROM Client '\n",
    "           'WHERE State IN (\\'NY\\', \\'FL\\')')\n",
    "df2 = pd.DataFrame(cur.fetchall(), columns=['Client_Name', 'State'])\n",
    "df2"
   ]
  },
  {
   "cell_type": "code",
   "execution_count": 75,
   "metadata": {},
   "outputs": [
    {
     "name": "stdout",
     "output_type": "stream",
     "text": [
      "(3)\n"
     ]
    },
    {
     "data": {
      "text/html": [
       "<div>\n",
       "<style scoped>\n",
       "    .dataframe tbody tr th:only-of-type {\n",
       "        vertical-align: middle;\n",
       "    }\n",
       "\n",
       "    .dataframe tbody tr th {\n",
       "        vertical-align: top;\n",
       "    }\n",
       "\n",
       "    .dataframe thead th {\n",
       "        text-align: right;\n",
       "    }\n",
       "</style>\n",
       "<table border=\"1\" class=\"dataframe\">\n",
       "  <thead>\n",
       "    <tr style=\"text-align: right;\">\n",
       "      <th></th>\n",
       "      <th>Client_Name</th>\n",
       "      <th>Street</th>\n",
       "      <th>City</th>\n",
       "      <th>State</th>\n",
       "    </tr>\n",
       "  </thead>\n",
       "  <tbody>\n",
       "    <tr>\n",
       "      <th>0</th>\n",
       "      <td>Jeff Miller</td>\n",
       "      <td>134 Central</td>\n",
       "      <td>Berridge</td>\n",
       "      <td>CO</td>\n",
       "    </tr>\n",
       "    <tr>\n",
       "      <th>1</th>\n",
       "      <td>Benton Smith</td>\n",
       "      <td>12 Mountain</td>\n",
       "      <td>Denton</td>\n",
       "      <td>CO</td>\n",
       "    </tr>\n",
       "    <tr>\n",
       "      <th>2</th>\n",
       "      <td>George Maun</td>\n",
       "      <td>76 Dixon</td>\n",
       "      <td>Mason</td>\n",
       "      <td>MI</td>\n",
       "    </tr>\n",
       "  </tbody>\n",
       "</table>\n",
       "</div>"
      ],
      "text/plain": [
       "    Client_Name       Street      City State\n",
       "0   Jeff Miller  134 Central  Berridge    CO\n",
       "1  Benton Smith  12 Mountain    Denton    CO\n",
       "2   George Maun     76 Dixon     Mason    MI"
      ]
     },
     "execution_count": 75,
     "metadata": {},
     "output_type": "execute_result"
    }
   ],
   "source": [
    "#From the Client table: display the Names, Street and City of all clients from Colorado or\n",
    "#Michigan whose last name contains a letter m\n",
    "\n",
    "print(\"(3)\")\n",
    "cur.execute('SELECT Client_Name, Street, City, State '\n",
    "           'FROM Client '\n",
    "           'WHERE State IN (\\'CO\\', \\'MI\\') '\n",
    "           'AND Client_Name LIKE \\'%m%\\'')\n",
    "df3 = pd.DataFrame(cur.fetchall(), columns=['Client_Name', 'Street', 'City', 'State'])\n",
    "df3\n"
   ]
  },
  {
   "cell_type": "code",
   "execution_count": 76,
   "metadata": {},
   "outputs": [
    {
     "name": "stdout",
     "output_type": "stream",
     "text": [
      "(4)\n"
     ]
    },
    {
     "data": {
      "text/html": [
       "<div>\n",
       "<style scoped>\n",
       "    .dataframe tbody tr th:only-of-type {\n",
       "        vertical-align: middle;\n",
       "    }\n",
       "\n",
       "    .dataframe tbody tr th {\n",
       "        vertical-align: top;\n",
       "    }\n",
       "\n",
       "    .dataframe thead th {\n",
       "        text-align: right;\n",
       "    }\n",
       "</style>\n",
       "<table border=\"1\" class=\"dataframe\">\n",
       "  <thead>\n",
       "    <tr style=\"text-align: right;\">\n",
       "      <th></th>\n",
       "      <th>Client_Name</th>\n",
       "      <th>State</th>\n",
       "    </tr>\n",
       "  </thead>\n",
       "  <tbody>\n",
       "    <tr>\n",
       "      <th>0</th>\n",
       "      <td>George Maun</td>\n",
       "      <td>MI</td>\n",
       "    </tr>\n",
       "  </tbody>\n",
       "</table>\n",
       "</div>"
      ],
      "text/plain": [
       "   Client_Name State\n",
       "0  George Maun    MI"
      ]
     },
     "execution_count": 76,
     "metadata": {},
     "output_type": "execute_result"
    }
   ],
   "source": [
    "#From the Client table: display the Names and the State of all clients from a state of your choice.\n",
    "print(\"(4)\")\n",
    "cur.execute('SELECT Client_Name, State '\n",
    "           'FROM Client '\n",
    "           'WHERE State IN (\\'MI\\') ')\n",
    "df4 = pd.DataFrame(cur.fetchall(), columns=['Client_Name', 'State'])\n",
    "df4\n"
   ]
  },
  {
   "cell_type": "code",
   "execution_count": 98,
   "metadata": {},
   "outputs": [
    {
     "name": "stdout",
     "output_type": "stream",
     "text": [
      "(5)\n"
     ]
    },
    {
     "ename": "OperationalError",
     "evalue": "no such column: Weekly_Rate",
     "output_type": "error",
     "traceback": [
      "\u001b[0;31m---------------------------------------------------------------------------\u001b[0m",
      "\u001b[0;31mOperationalError\u001b[0m                          Traceback (most recent call last)",
      "\u001b[0;32m<ipython-input-98-a6bc55c24893>\u001b[0m in \u001b[0;36m<module>\u001b[0;34m\u001b[0m\n\u001b[1;32m      3\u001b[0m \u001b[0;34m\u001b[0m\u001b[0m\n\u001b[1;32m      4\u001b[0m \u001b[0mprint\u001b[0m\u001b[0;34m(\u001b[0m\u001b[0;34m\"(5)\"\u001b[0m\u001b[0;34m)\u001b[0m\u001b[0;34m\u001b[0m\u001b[0;34m\u001b[0m\u001b[0m\n\u001b[0;32m----> 5\u001b[0;31m cur.execute('SELECT Weekly_Rate, Bathrooms, Unit_Number'\n\u001b[0m\u001b[1;32m      6\u001b[0m            \u001b[0;34m'FROM Condo_Unit '\u001b[0m\u001b[0;34m\u001b[0m\u001b[0;34m\u001b[0m\u001b[0m\n\u001b[1;32m      7\u001b[0m            'WHERE Weekly_Rate >= 725 AND Weekly_Rate < 1000')\n",
      "\u001b[0;31mOperationalError\u001b[0m: no such column: Weekly_Rate"
     ]
    }
   ],
   "source": [
    "#From the Condo Unit table: display Weekly Rate, number of Bathrooms and Unit Number of all\n",
    "#units with rates greater than or equal to $725 and less than $1000\n",
    "\n",
    "print(\"(5)\")\n",
    "cur.execute('SELECT Weekly_Rate, Bathrooms, Unit_Number'\n",
    "           'FROM Condo_Unit '\n",
    "           'WHERE Weekly_Rate >= 725 AND Weekly_Rate < 1000')\n",
    "df5 = pd.DataFrame(cur.fetchall(), columns=['Weekly_Rate', 'Bathrooms', 'Unit_Number'])\n",
    "df5\n"
   ]
  },
  {
   "cell_type": "code",
   "execution_count": 99,
   "metadata": {},
   "outputs": [
    {
     "name": "stdout",
     "output_type": "stream",
     "text": [
      "(6)\n"
     ]
    },
    {
     "data": {
      "text/html": [
       "<div>\n",
       "<style scoped>\n",
       "    .dataframe tbody tr th:only-of-type {\n",
       "        vertical-align: middle;\n",
       "    }\n",
       "\n",
       "    .dataframe tbody tr th {\n",
       "        vertical-align: top;\n",
       "    }\n",
       "\n",
       "    .dataframe thead th {\n",
       "        text-align: right;\n",
       "    }\n",
       "</style>\n",
       "<table border=\"1\" class=\"dataframe\">\n",
       "  <thead>\n",
       "    <tr style=\"text-align: right;\">\n",
       "      <th></th>\n",
       "      <th>Unit Number</th>\n",
       "      <th>Bedrooms</th>\n",
       "      <th>Rented</th>\n",
       "      <th>Next Available</th>\n",
       "    </tr>\n",
       "  </thead>\n",
       "  <tbody>\n",
       "    <tr>\n",
       "      <th>0</th>\n",
       "      <td>109</td>\n",
       "      <td>2</td>\n",
       "      <td>1</td>\n",
       "      <td>10/8/2023</td>\n",
       "    </tr>\n",
       "    <tr>\n",
       "      <th>1</th>\n",
       "      <td>205</td>\n",
       "      <td>2</td>\n",
       "      <td>1</td>\n",
       "      <td>8/15/2023</td>\n",
       "    </tr>\n",
       "    <tr>\n",
       "      <th>2</th>\n",
       "      <td>207</td>\n",
       "      <td>2</td>\n",
       "      <td>1</td>\n",
       "      <td>2/6/2023</td>\n",
       "    </tr>\n",
       "    <tr>\n",
       "      <th>3</th>\n",
       "      <td>511</td>\n",
       "      <td>2</td>\n",
       "      <td>1</td>\n",
       "      <td>3/11/2023</td>\n",
       "    </tr>\n",
       "  </tbody>\n",
       "</table>\n",
       "</div>"
      ],
      "text/plain": [
       "   Unit Number  Bedrooms  Rented Next Available\n",
       "0          109         2       1      10/8/2023\n",
       "1          205         2       1      8/15/2023\n",
       "2          207         2       1       2/6/2023\n",
       "3          511         2       1      3/11/2023"
      ]
     },
     "execution_count": 99,
     "metadata": {},
     "output_type": "execute_result"
    }
   ],
   "source": [
    "#From the Condo Unit table: display Unit Number, Bedrooms, Rented and Next Available of all\n",
    "#two-bedroom units which are rented and also display Unit Number, Bedrooms, Rented and Next\n",
    "#Available of three-bedroom units available after January 1st , 2023. Note: sqlite3 does not support\n",
    "#Date type. With the date in this format, we can get the right comparison YYYY-MM-DD\n",
    "\n",
    "print(\"(6)\")\n",
    "cur.execute('SELECT Unit_Number, Bedrooms, Rented, Next_Available '\n",
    "           'FROM Condo_Unit '\n",
    "           'WHERE Bedrooms = 2 AND Rented = 1 '\n",
    "           'UNION '\n",
    "           'SELECT Unit_Number, Bedrooms, Rented, Next_Available '\n",
    "           'FROM Condo_Unit '\n",
    "           'WHERE Bedrooms = 3 AND Next_Available > \\'2023-01-01\\'')\n",
    "df6 = pd.DataFrame(cur.fetchall(), columns=['Unit Number', 'Bedrooms', 'Rented', 'Next Available'])\n",
    "df6"
   ]
  },
  {
   "cell_type": "code",
   "execution_count": 77,
   "metadata": {},
   "outputs": [
    {
     "name": "stdout",
     "output_type": "stream",
     "text": [
      "(7)\n"
     ]
    },
    {
     "data": {
      "text/html": [
       "<div>\n",
       "<style scoped>\n",
       "    .dataframe tbody tr th:only-of-type {\n",
       "        vertical-align: middle;\n",
       "    }\n",
       "\n",
       "    .dataframe tbody tr th {\n",
       "        vertical-align: top;\n",
       "    }\n",
       "\n",
       "    .dataframe thead th {\n",
       "        text-align: right;\n",
       "    }\n",
       "</style>\n",
       "<table border=\"1\" class=\"dataframe\">\n",
       "  <thead>\n",
       "    <tr style=\"text-align: right;\">\n",
       "      <th></th>\n",
       "      <th>First Name</th>\n",
       "      <th>Last Name</th>\n",
       "      <th>Street</th>\n",
       "      <th>City</th>\n",
       "      <th>State</th>\n",
       "    </tr>\n",
       "  </thead>\n",
       "  <tbody>\n",
       "    <tr>\n",
       "      <th>0</th>\n",
       "      <td>Mary Jo</td>\n",
       "      <td>Gonzalez</td>\n",
       "      <td>56 Central</td>\n",
       "      <td>Nowhere</td>\n",
       "      <td>NY</td>\n",
       "    </tr>\n",
       "  </tbody>\n",
       "</table>\n",
       "</div>"
      ],
      "text/plain": [
       "  First Name Last Name      Street     City State\n",
       "0    Mary Jo  Gonzalez  56 Central  Nowhere    NY"
      ]
     },
     "execution_count": 77,
     "metadata": {},
     "output_type": "execute_result"
    }
   ],
   "source": [
    "#From the Owner table: display the first name, last name, street, city and state of all owners\n",
    "#whose last names start with the letter G and are from New York\n",
    "\n",
    "print(\"(7)\")\n",
    "cur.execute('SELECT First_Name, Last_Name, Street, City, State '\n",
    "           'FROM Owner '\n",
    "           'WHERE State = \\'NY\\' '\n",
    "           'AND Last_Name LIKE \\'g%\\'')\n",
    "df7 = pd.DataFrame(cur.fetchall(), columns=['First Name', 'Last Name', 'Street', 'City', 'State'])\n",
    "df7"
   ]
  },
  {
   "cell_type": "code",
   "execution_count": 78,
   "metadata": {},
   "outputs": [
    {
     "name": "stdout",
     "output_type": "stream",
     "text": [
      "(8)\n"
     ]
    },
    {
     "data": {
      "text/html": [
       "<div>\n",
       "<style scoped>\n",
       "    .dataframe tbody tr th:only-of-type {\n",
       "        vertical-align: middle;\n",
       "    }\n",
       "\n",
       "    .dataframe tbody tr th {\n",
       "        vertical-align: top;\n",
       "    }\n",
       "\n",
       "    .dataframe thead th {\n",
       "        text-align: right;\n",
       "    }\n",
       "</style>\n",
       "<table border=\"1\" class=\"dataframe\">\n",
       "  <thead>\n",
       "    <tr style=\"text-align: right;\">\n",
       "      <th></th>\n",
       "      <th>Bedrooms</th>\n",
       "      <th>Average Weekly Rate</th>\n",
       "    </tr>\n",
       "  </thead>\n",
       "  <tbody>\n",
       "    <tr>\n",
       "      <th>0</th>\n",
       "      <td>1</td>\n",
       "      <td>758.333333</td>\n",
       "    </tr>\n",
       "    <tr>\n",
       "      <th>1</th>\n",
       "      <td>2</td>\n",
       "      <td>1000.000000</td>\n",
       "    </tr>\n",
       "    <tr>\n",
       "      <th>2</th>\n",
       "      <td>3</td>\n",
       "      <td>1300.000000</td>\n",
       "    </tr>\n",
       "  </tbody>\n",
       "</table>\n",
       "</div>"
      ],
      "text/plain": [
       "   Bedrooms  Average Weekly Rate\n",
       "0         1           758.333333\n",
       "1         2          1000.000000\n",
       "2         3          1300.000000"
      ]
     },
     "execution_count": 78,
     "metadata": {},
     "output_type": "execute_result"
    }
   ],
   "source": [
    "#From the Condo Unit table: display average weekly rates grouped by number of bedrooms\n",
    "print(\"(8)\")\n",
    "\n",
    "cur.execute('SELECT Bedrooms, AVG(Weekly_Rate) AS \"Average Weekly Rate\" '\n",
    "           'FROM Condo_Unit '\n",
    "           'GROUP BY Bedrooms')\n",
    "df8 = pd.DataFrame(cur.fetchall(), columns=['Bedrooms', 'Average Weekly Rate'])\n",
    "\n",
    "df8"
   ]
  },
  {
   "cell_type": "code",
   "execution_count": 89,
   "metadata": {},
   "outputs": [
    {
     "name": "stdout",
     "output_type": "stream",
     "text": [
      "(9)\n"
     ]
    },
    {
     "data": {
      "text/html": [
       "<div>\n",
       "<style scoped>\n",
       "    .dataframe tbody tr th:only-of-type {\n",
       "        vertical-align: middle;\n",
       "    }\n",
       "\n",
       "    .dataframe tbody tr th {\n",
       "        vertical-align: top;\n",
       "    }\n",
       "\n",
       "    .dataframe thead th {\n",
       "        text-align: right;\n",
       "    }\n",
       "</style>\n",
       "<table border=\"1\" class=\"dataframe\">\n",
       "  <thead>\n",
       "    <tr style=\"text-align: right;\">\n",
       "      <th></th>\n",
       "      <th>Client Name</th>\n",
       "      <th>Weekly Rate</th>\n",
       "      <th>Rented</th>\n",
       "      <th>Owner Last Name</th>\n",
       "    </tr>\n",
       "  </thead>\n",
       "  <tbody>\n",
       "    <tr>\n",
       "      <th>0</th>\n",
       "      <td>John Alton</td>\n",
       "      <td>1450</td>\n",
       "      <td>1</td>\n",
       "      <td>Alonso</td>\n",
       "    </tr>\n",
       "    <tr>\n",
       "      <th>1</th>\n",
       "      <td>West Kachi</td>\n",
       "      <td>800</td>\n",
       "      <td>1</td>\n",
       "      <td>Alonso</td>\n",
       "    </tr>\n",
       "  </tbody>\n",
       "</table>\n",
       "</div>"
      ],
      "text/plain": [
       "  Client Name  Weekly Rate  Rented Owner Last Name\n",
       "0  John Alton         1450       1          Alonso\n",
       "1  West Kachi          800       1          Alonso"
      ]
     },
     "execution_count": 89,
     "metadata": {},
     "output_type": "execute_result"
    }
   ],
   "source": [
    "#From all three tables display Client Name, Weekly Rate, Rented and Owner’s Last Name of all\n",
    "#condos that are rented and whose owner’s last name starts with A.\n",
    "\n",
    "print(\"(9)\")\n",
    "\n",
    "cur.execute('''SELECT c.Client_Name, cu.Weekly_Rate, cu.Rented, o.Last_Name '\n",
    "           'FROM Client c \n",
    "            JOIN Condo_Unit cu ON c.Client_Number = cu.Client_Number\n",
    "            JOIN Owner o ON cu.Owner_Code = o.Owner_Code\n",
    "            WHERE cu.Rented = TRUE AND o.Last_Name LIKE \"A%\"''')\n",
    "query = cur.fetchall()\n",
    "df9 = pd.DataFrame(query, columns=['Client Name', 'Weekly Rate','Rented', \"Owner Last Name\"])\n",
    "df9\n"
   ]
  },
  {
   "cell_type": "code",
   "execution_count": 92,
   "metadata": {},
   "outputs": [
    {
     "name": "stdout",
     "output_type": "stream",
     "text": [
      "(10)\n"
     ]
    },
    {
     "data": {
      "text/html": [
       "<div>\n",
       "<style scoped>\n",
       "    .dataframe tbody tr th:only-of-type {\n",
       "        vertical-align: middle;\n",
       "    }\n",
       "\n",
       "    .dataframe tbody tr th {\n",
       "        vertical-align: top;\n",
       "    }\n",
       "\n",
       "    .dataframe thead th {\n",
       "        text-align: right;\n",
       "    }\n",
       "</style>\n",
       "<table border=\"1\" class=\"dataframe\">\n",
       "  <thead>\n",
       "    <tr style=\"text-align: right;\">\n",
       "      <th></th>\n",
       "      <th>City</th>\n",
       "      <th>State</th>\n",
       "      <th>Bedrooms</th>\n",
       "      <th>Rented</th>\n",
       "      <th>Owner State</th>\n",
       "    </tr>\n",
       "  </thead>\n",
       "  <tbody>\n",
       "    <tr>\n",
       "      <th>0</th>\n",
       "      <td>Berridge</td>\n",
       "      <td>CO</td>\n",
       "      <td>2</td>\n",
       "      <td>1</td>\n",
       "      <td>CO</td>\n",
       "    </tr>\n",
       "    <tr>\n",
       "      <th>1</th>\n",
       "      <td>Tarleton</td>\n",
       "      <td>CO</td>\n",
       "      <td>2</td>\n",
       "      <td>1</td>\n",
       "      <td>CO</td>\n",
       "    </tr>\n",
       "  </tbody>\n",
       "</table>\n",
       "</div>"
      ],
      "text/plain": [
       "       City State  Bedrooms  Rented Owner State\n",
       "0  Berridge    CO         2       1          CO\n",
       "1  Tarleton    CO         2       1          CO"
      ]
     },
     "execution_count": 92,
     "metadata": {},
     "output_type": "execute_result"
    }
   ],
   "source": [
    "\n",
    "print(\"(10)\")\n",
    "cur.execute('''SELECT c.City, c.State, cu.Bedrooms, cu.Rented, o.State as \"Owner State\"\n",
    "           FROM Client c \n",
    "           JOIN Condo_Unit cu ON c.Client_Number = cu.Client_Number\n",
    "           JOIN Owner o ON cu.Owner_Code = o.Owner_Code\n",
    "           WHERE cu.Rented = 1 AND cu.Bedrooms = 2 AND o.State = 'CO' ''')\n",
    "\n",
    "query = cur.fetchall()\n",
    "df10 = pd.DataFrame(query, columns=['City', 'State', 'Bedrooms', 'Rented', 'Owner State'])\n",
    "df10\n"
   ]
  },
  {
   "cell_type": "code",
   "execution_count": null,
   "metadata": {},
   "outputs": [],
   "source": []
  },
  {
   "cell_type": "code",
   "execution_count": null,
   "metadata": {},
   "outputs": [],
   "source": []
  }
 ],
 "metadata": {
  "kernelspec": {
   "display_name": "Python 3",
   "language": "python",
   "name": "python3"
  },
  "language_info": {
   "codemirror_mode": {
    "name": "ipython",
    "version": 3
   },
   "file_extension": ".py",
   "mimetype": "text/x-python",
   "name": "python",
   "nbconvert_exporter": "python",
   "pygments_lexer": "ipython3",
   "version": "3.7.6"
  }
 },
 "nbformat": 4,
 "nbformat_minor": 4
}
